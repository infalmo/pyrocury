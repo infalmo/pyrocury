{
 "cells": [
  {
   "cell_type": "code",
   "execution_count": null,
   "metadata": {},
   "outputs": [],
   "source": [
    "%pip install pytube\n",
    "%pip install youtube_transcript_api\n",
    "%pip install moviepy\n",
    "%pip install ffmpeg"
   ]
  },
  {
   "cell_type": "code",
   "execution_count": null,
   "metadata": {},
   "outputs": [],
   "source": [
    "import os\n",
    "from tempfile import tempdir\n",
    "from uuid import uuid4\n",
    "import pytube\n",
    "\n",
    "def download_youtube_video(url: str):\n",
    "    out_folder = os.path.join(tempdir, \"pyrocury\", uuid4().hex)\n",
    "    os.makedirs(out_folder, exist_ok=False)\n",
    "\n",
    "    yt = pytube.YouTube(url)\n",
    "    yt.streams.get_highest_resolution().download(out_folder)\n",
    "\n",
    "    return os.path.join(out_folder, os.listdir(out_folder)[0])\n",
    "\n",
    "# download_youtube_video(\"https://www.youtube.com/watch?v=J38Yq85ZoyY\")"
   ]
  },
  {
   "cell_type": "code",
   "execution_count": null,
   "metadata": {},
   "outputs": [],
   "source": [
    "import pytube\n",
    "from youtube_transcript_api import YouTubeTranscriptApi\n",
    "\n",
    "def get_youtube_transcript(url: str):\n",
    "    video_id = pytube.YouTube(url).video_id\n",
    "    return YouTubeTranscriptApi.get_transcript(video_id)\n",
    "\n",
    "get_youtube_transcript(\"https://www.youtube.com/watch?v=lj5GXZaE7qs\")"
   ]
  },
  {
   "cell_type": "code",
   "execution_count": null,
   "metadata": {},
   "outputs": [],
   "source": [
    "import numpy as np\n",
    "\n",
    "def convert_raw_heatmap(raw: list[float]):\n",
    "    # Invert\n",
    "    H = 10*np.array(raw)\n",
    "    maxH = max(H)\n",
    "    K = (1.0-H)/(1.0-maxH)\n",
    "\n",
    "    # Smoothen (moving average)\n",
    "    MAVG_WINDOW = 3\n",
    "    F = []\n",
    "    \n",
    "    sum = 0.0\n",
    "    for i in range(len(K)):\n",
    "        sum += K[i]\n",
    "        if i >= MAVG_WINDOW:\n",
    "            sum -= K[i-MAVG_WINDOW]\n",
    "        F.append(sum/min(i+1, MAVG_WINDOW))\n",
    "\n",
    "    return np.array(F)\n",
    "\n",
    "convert_raw_heatmap([0.09, 0.09, 0.08, 0.09, 0.09, 0.08, 0.08, 0.08, 0.08, 0.08, 0.08, 0.08, 0.08, 0.07, 0.08, 0.08, 0.09, 0.08, 0.08, 0.08, 0.07, 0.08, 0.07, 0.08, 0.07, 0.08, 0.07, 0.08, 0.08, 0.07, 0.08, 0.08, 0.08, 0.09])"
   ]
  },
  {
   "cell_type": "code",
   "execution_count": 22,
   "metadata": {},
   "outputs": [
    {
     "name": "stdout",
     "output_type": "stream",
     "text": [
      "Moviepy - Building video hello.mp4.\n",
      "MoviePy - Writing audio in helloTEMP_MPY_wvf_snd.mp3\n"
     ]
    },
    {
     "name": "stderr",
     "output_type": "stream",
     "text": [
      "                                                                    \r"
     ]
    },
    {
     "name": "stdout",
     "output_type": "stream",
     "text": [
      "MoviePy - Done.\n",
      "Moviepy - Writing video hello.mp4\n",
      "\n"
     ]
    },
    {
     "ename": "TypeError",
     "evalue": "must be real number, not NoneType",
     "output_type": "error",
     "traceback": [
      "\u001b[0;31m---------------------------------------------------------------------------\u001b[0m",
      "\u001b[0;31mTypeError\u001b[0m                                 Traceback (most recent call last)",
      "\u001b[1;32m/workspaces/pyrocury/model.ipynb Cell 5\u001b[0m in \u001b[0;36m<cell line: 28>\u001b[0;34m()\u001b[0m\n\u001b[1;32m     <a href='vscode-notebook-cell://codespaces%2Binfalmo-pyrocury-6445g7xvq5534v5x/workspaces/pyrocury/model.ipynb#W4sdnNjb2RlLXJlbW90ZQ%3D%3D?line=24'>25</a>\u001b[0m     output\u001b[39m.\u001b[39mwrite_videofile(out_file)\n\u001b[1;32m     <a href='vscode-notebook-cell://codespaces%2Binfalmo-pyrocury-6445g7xvq5534v5x/workspaces/pyrocury/model.ipynb#W4sdnNjb2RlLXJlbW90ZQ%3D%3D?line=25'>26</a>\u001b[0m     \u001b[39mreturn\u001b[39;00m out_file\n\u001b[0;32m---> <a href='vscode-notebook-cell://codespaces%2Binfalmo-pyrocury-6445g7xvq5534v5x/workspaces/pyrocury/model.ipynb#W4sdnNjb2RlLXJlbW90ZQ%3D%3D?line=27'>28</a>\u001b[0m speeden_video(\u001b[39m\"\u001b[39;49m\u001b[39m/tmp/pyrocury/1f4922554fc84bc68adfc0dd5f34525d/Introducing YouTube Shorts.mp4\u001b[39;49m\u001b[39m\"\u001b[39;49m, [\u001b[39m0.5\u001b[39;49m])\n",
      "\u001b[1;32m/workspaces/pyrocury/model.ipynb Cell 5\u001b[0m in \u001b[0;36mspeeden_video\u001b[0;34m(video_file_path, speeds)\u001b[0m\n\u001b[1;32m      <a href='vscode-notebook-cell://codespaces%2Binfalmo-pyrocury-6445g7xvq5534v5x/workspaces/pyrocury/model.ipynb#W4sdnNjb2RlLXJlbW90ZQ%3D%3D?line=3'>4</a>\u001b[0m out_file \u001b[39m=\u001b[39m os\u001b[39m.\u001b[39mpath\u001b[39m.\u001b[39mjoin(os\u001b[39m.\u001b[39mpath\u001b[39m.\u001b[39mdirname(video_file_path), \u001b[39m\"\u001b[39m\u001b[39mpyrocury-output.mp4\u001b[39m\u001b[39m\"\u001b[39m)\n\u001b[1;32m      <a href='vscode-notebook-cell://codespaces%2Binfalmo-pyrocury-6445g7xvq5534v5x/workspaces/pyrocury/model.ipynb#W4sdnNjb2RlLXJlbW90ZQ%3D%3D?line=5'>6</a>\u001b[0m video \u001b[39m=\u001b[39m VideoFileClip(video_file_path)\n\u001b[0;32m----> <a href='vscode-notebook-cell://codespaces%2Binfalmo-pyrocury-6445g7xvq5534v5x/workspaces/pyrocury/model.ipynb#W4sdnNjb2RlLXJlbW90ZQ%3D%3D?line=6'>7</a>\u001b[0m video\u001b[39m.\u001b[39;49mwrite_videofile(\u001b[39m\"\u001b[39;49m\u001b[39mhello.mp4\u001b[39;49m\u001b[39m\"\u001b[39;49m)\n\u001b[1;32m      <a href='vscode-notebook-cell://codespaces%2Binfalmo-pyrocury-6445g7xvq5534v5x/workspaces/pyrocury/model.ipynb#W4sdnNjb2RlLXJlbW90ZQ%3D%3D?line=7'>8</a>\u001b[0m output \u001b[39m=\u001b[39m \u001b[39mNone\u001b[39;00m\n\u001b[1;32m     <a href='vscode-notebook-cell://codespaces%2Binfalmo-pyrocury-6445g7xvq5534v5x/workspaces/pyrocury/model.ipynb#W4sdnNjb2RlLXJlbW90ZQ%3D%3D?line=9'>10</a>\u001b[0m l \u001b[39m=\u001b[39m \u001b[39m0.0\u001b[39m\n",
      "File \u001b[0;32m/opt/python/3.10.4/lib/python3.10/site-packages/decorator.py:232\u001b[0m, in \u001b[0;36mfun\u001b[0;34m(*args, **kw)\u001b[0m\n\u001b[1;32m    230\u001b[0m evaldict \u001b[39m=\u001b[39m \u001b[39mdict\u001b[39m(_call_\u001b[39m=\u001b[39mcaller, _func_\u001b[39m=\u001b[39mfunc)\n\u001b[1;32m    231\u001b[0m es \u001b[39m=\u001b[39m \u001b[39m'\u001b[39m\u001b[39m'\u001b[39m\n\u001b[0;32m--> 232\u001b[0m \u001b[39mfor\u001b[39;00m i, extra \u001b[39min\u001b[39;00m \u001b[39menumerate\u001b[39m(extras):\n\u001b[1;32m    233\u001b[0m     ex \u001b[39m=\u001b[39m \u001b[39m'\u001b[39m\u001b[39m_e\u001b[39m\u001b[39m%d\u001b[39;00m\u001b[39m_\u001b[39m\u001b[39m'\u001b[39m \u001b[39m%\u001b[39m i\n\u001b[1;32m    234\u001b[0m     evaldict[ex] \u001b[39m=\u001b[39m extra\n",
      "File \u001b[0;32m/opt/python/3.10.4/lib/python3.10/site-packages/moviepy/decorators.py:54\u001b[0m, in \u001b[0;36mrequires_duration\u001b[0;34m(f, clip, *a, **k)\u001b[0m\n\u001b[1;32m     52\u001b[0m     \u001b[39mraise\u001b[39;00m \u001b[39mValueError\u001b[39;00m(\u001b[39m\"\u001b[39m\u001b[39mAttribute \u001b[39m\u001b[39m'\u001b[39m\u001b[39mduration\u001b[39m\u001b[39m'\u001b[39m\u001b[39m not set\u001b[39m\u001b[39m\"\u001b[39m)\n\u001b[1;32m     53\u001b[0m \u001b[39melse\u001b[39;00m:\n\u001b[0;32m---> 54\u001b[0m     \u001b[39mreturn\u001b[39;00m f(clip, \u001b[39m*\u001b[39;49ma, \u001b[39m*\u001b[39;49m\u001b[39m*\u001b[39;49mk)\n",
      "File \u001b[0;32m/opt/python/3.10.4/lib/python3.10/site-packages/decorator.py:232\u001b[0m, in \u001b[0;36mfun\u001b[0;34m(*args, **kw)\u001b[0m\n\u001b[1;32m    230\u001b[0m evaldict \u001b[39m=\u001b[39m \u001b[39mdict\u001b[39m(_call_\u001b[39m=\u001b[39mcaller, _func_\u001b[39m=\u001b[39mfunc)\n\u001b[1;32m    231\u001b[0m es \u001b[39m=\u001b[39m \u001b[39m'\u001b[39m\u001b[39m'\u001b[39m\n\u001b[0;32m--> 232\u001b[0m \u001b[39mfor\u001b[39;00m i, extra \u001b[39min\u001b[39;00m \u001b[39menumerate\u001b[39m(extras):\n\u001b[1;32m    233\u001b[0m     ex \u001b[39m=\u001b[39m \u001b[39m'\u001b[39m\u001b[39m_e\u001b[39m\u001b[39m%d\u001b[39;00m\u001b[39m_\u001b[39m\u001b[39m'\u001b[39m \u001b[39m%\u001b[39m i\n\u001b[1;32m    234\u001b[0m     evaldict[ex] \u001b[39m=\u001b[39m extra\n",
      "File \u001b[0;32m/opt/python/3.10.4/lib/python3.10/site-packages/moviepy/decorators.py:135\u001b[0m, in \u001b[0;36muse_clip_fps_by_default\u001b[0;34m(f, clip, *a, **k)\u001b[0m\n\u001b[1;32m    130\u001b[0m new_a \u001b[39m=\u001b[39m [fun(arg) \u001b[39mif\u001b[39;00m (name\u001b[39m==\u001b[39m\u001b[39m'\u001b[39m\u001b[39mfps\u001b[39m\u001b[39m'\u001b[39m) \u001b[39melse\u001b[39;00m arg\n\u001b[1;32m    131\u001b[0m          \u001b[39mfor\u001b[39;00m (arg, name) \u001b[39min\u001b[39;00m \u001b[39mzip\u001b[39m(a, names)]\n\u001b[1;32m    132\u001b[0m new_kw \u001b[39m=\u001b[39m {k: fun(v) \u001b[39mif\u001b[39;00m k\u001b[39m==\u001b[39m\u001b[39m'\u001b[39m\u001b[39mfps\u001b[39m\u001b[39m'\u001b[39m \u001b[39melse\u001b[39;00m v\n\u001b[1;32m    133\u001b[0m          \u001b[39mfor\u001b[39;00m (k,v) \u001b[39min\u001b[39;00m k\u001b[39m.\u001b[39mitems()}\n\u001b[0;32m--> 135\u001b[0m \u001b[39mreturn\u001b[39;00m f(clip, \u001b[39m*\u001b[39;49mnew_a, \u001b[39m*\u001b[39;49m\u001b[39m*\u001b[39;49mnew_kw)\n",
      "File \u001b[0;32m/opt/python/3.10.4/lib/python3.10/site-packages/decorator.py:232\u001b[0m, in \u001b[0;36mfun\u001b[0;34m(*args, **kw)\u001b[0m\n\u001b[1;32m    230\u001b[0m evaldict \u001b[39m=\u001b[39m \u001b[39mdict\u001b[39m(_call_\u001b[39m=\u001b[39mcaller, _func_\u001b[39m=\u001b[39mfunc)\n\u001b[1;32m    231\u001b[0m es \u001b[39m=\u001b[39m \u001b[39m'\u001b[39m\u001b[39m'\u001b[39m\n\u001b[0;32m--> 232\u001b[0m \u001b[39mfor\u001b[39;00m i, extra \u001b[39min\u001b[39;00m \u001b[39menumerate\u001b[39m(extras):\n\u001b[1;32m    233\u001b[0m     ex \u001b[39m=\u001b[39m \u001b[39m'\u001b[39m\u001b[39m_e\u001b[39m\u001b[39m%d\u001b[39;00m\u001b[39m_\u001b[39m\u001b[39m'\u001b[39m \u001b[39m%\u001b[39m i\n\u001b[1;32m    234\u001b[0m     evaldict[ex] \u001b[39m=\u001b[39m extra\n",
      "File \u001b[0;32m/opt/python/3.10.4/lib/python3.10/site-packages/moviepy/decorators.py:22\u001b[0m, in \u001b[0;36mconvert_masks_to_RGB\u001b[0;34m(f, clip, *a, **k)\u001b[0m\n\u001b[1;32m     20\u001b[0m \u001b[39mif\u001b[39;00m clip\u001b[39m.\u001b[39mismask:\n\u001b[1;32m     21\u001b[0m     clip \u001b[39m=\u001b[39m clip\u001b[39m.\u001b[39mto_RGB()\n\u001b[0;32m---> 22\u001b[0m \u001b[39mreturn\u001b[39;00m f(clip, \u001b[39m*\u001b[39;49ma, \u001b[39m*\u001b[39;49m\u001b[39m*\u001b[39;49mk)\n",
      "File \u001b[0;32m/opt/python/3.10.4/lib/python3.10/site-packages/moviepy/video/VideoClip.py:300\u001b[0m, in \u001b[0;36mVideoClip.write_videofile\u001b[0;34m(self, filename, fps, codec, bitrate, audio, audio_fps, preset, audio_nbytes, audio_codec, audio_bitrate, audio_bufsize, temp_audiofile, rewrite_audio, remove_temp, write_logfile, verbose, threads, ffmpeg_params, logger)\u001b[0m\n\u001b[1;32m    292\u001b[0m \u001b[39mif\u001b[39;00m make_audio:\n\u001b[1;32m    293\u001b[0m     \u001b[39mself\u001b[39m\u001b[39m.\u001b[39maudio\u001b[39m.\u001b[39mwrite_audiofile(audiofile, audio_fps,\n\u001b[1;32m    294\u001b[0m                                audio_nbytes, audio_bufsize,\n\u001b[1;32m    295\u001b[0m                                audio_codec, bitrate\u001b[39m=\u001b[39maudio_bitrate,\n\u001b[1;32m    296\u001b[0m                                write_logfile\u001b[39m=\u001b[39mwrite_logfile,\n\u001b[1;32m    297\u001b[0m                                verbose\u001b[39m=\u001b[39mverbose,\n\u001b[1;32m    298\u001b[0m                                logger\u001b[39m=\u001b[39mlogger)\n\u001b[0;32m--> 300\u001b[0m ffmpeg_write_video(\u001b[39mself\u001b[39;49m, filename, fps, codec,\n\u001b[1;32m    301\u001b[0m                    bitrate\u001b[39m=\u001b[39;49mbitrate,\n\u001b[1;32m    302\u001b[0m                    preset\u001b[39m=\u001b[39;49mpreset,\n\u001b[1;32m    303\u001b[0m                    write_logfile\u001b[39m=\u001b[39;49mwrite_logfile,\n\u001b[1;32m    304\u001b[0m                    audiofile\u001b[39m=\u001b[39;49maudiofile,\n\u001b[1;32m    305\u001b[0m                    verbose\u001b[39m=\u001b[39;49mverbose, threads\u001b[39m=\u001b[39;49mthreads,\n\u001b[1;32m    306\u001b[0m                    ffmpeg_params\u001b[39m=\u001b[39;49mffmpeg_params,\n\u001b[1;32m    307\u001b[0m                    logger\u001b[39m=\u001b[39;49mlogger)\n\u001b[1;32m    309\u001b[0m \u001b[39mif\u001b[39;00m remove_temp \u001b[39mand\u001b[39;00m make_audio:\n\u001b[1;32m    310\u001b[0m     \u001b[39mif\u001b[39;00m os\u001b[39m.\u001b[39mpath\u001b[39m.\u001b[39mexists(audiofile):\n",
      "File \u001b[0;32m/opt/python/3.10.4/lib/python3.10/site-packages/moviepy/video/io/ffmpeg_writer.py:213\u001b[0m, in \u001b[0;36mffmpeg_write_video\u001b[0;34m(clip, filename, fps, codec, bitrate, preset, withmask, write_logfile, audiofile, verbose, threads, ffmpeg_params, logger)\u001b[0m\n\u001b[1;32m    211\u001b[0m     logfile \u001b[39m=\u001b[39m \u001b[39mNone\u001b[39;00m\n\u001b[1;32m    212\u001b[0m logger(message\u001b[39m=\u001b[39m\u001b[39m'\u001b[39m\u001b[39mMoviepy - Writing video \u001b[39m\u001b[39m%s\u001b[39;00m\u001b[39m\\n\u001b[39;00m\u001b[39m'\u001b[39m \u001b[39m%\u001b[39m filename)\n\u001b[0;32m--> 213\u001b[0m \u001b[39mwith\u001b[39;00m FFMPEG_VideoWriter(filename, clip\u001b[39m.\u001b[39;49msize, fps, codec \u001b[39m=\u001b[39;49m codec,\n\u001b[1;32m    214\u001b[0m                             preset\u001b[39m=\u001b[39;49mpreset, bitrate\u001b[39m=\u001b[39;49mbitrate, logfile\u001b[39m=\u001b[39;49mlogfile,\n\u001b[1;32m    215\u001b[0m                             audiofile\u001b[39m=\u001b[39;49maudiofile, threads\u001b[39m=\u001b[39;49mthreads,\n\u001b[1;32m    216\u001b[0m                             ffmpeg_params\u001b[39m=\u001b[39;49mffmpeg_params) \u001b[39mas\u001b[39;00m writer:\n\u001b[1;32m    218\u001b[0m     nframes \u001b[39m=\u001b[39m \u001b[39mint\u001b[39m(clip\u001b[39m.\u001b[39mduration\u001b[39m*\u001b[39mfps)\n\u001b[1;32m    220\u001b[0m     \u001b[39mfor\u001b[39;00m t,frame \u001b[39min\u001b[39;00m clip\u001b[39m.\u001b[39miter_frames(logger\u001b[39m=\u001b[39mlogger, with_times\u001b[39m=\u001b[39m\u001b[39mTrue\u001b[39;00m,\n\u001b[1;32m    221\u001b[0m                                     fps\u001b[39m=\u001b[39mfps, dtype\u001b[39m=\u001b[39m\u001b[39m\"\u001b[39m\u001b[39muint8\u001b[39m\u001b[39m\"\u001b[39m):\n",
      "File \u001b[0;32m/opt/python/3.10.4/lib/python3.10/site-packages/moviepy/video/io/ffmpeg_writer.py:88\u001b[0m, in \u001b[0;36mFFMPEG_VideoWriter.__init__\u001b[0;34m(self, filename, size, fps, codec, audiofile, preset, bitrate, withmask, logfile, threads, ffmpeg_params)\u001b[0m\n\u001b[1;32m     77\u001b[0m \u001b[39mself\u001b[39m\u001b[39m.\u001b[39mext \u001b[39m=\u001b[39m \u001b[39mself\u001b[39m\u001b[39m.\u001b[39mfilename\u001b[39m.\u001b[39msplit(\u001b[39m\"\u001b[39m\u001b[39m.\u001b[39m\u001b[39m\"\u001b[39m)[\u001b[39m-\u001b[39m\u001b[39m1\u001b[39m]\n\u001b[1;32m     79\u001b[0m \u001b[39m# order is important\u001b[39;00m\n\u001b[1;32m     80\u001b[0m cmd \u001b[39m=\u001b[39m [\n\u001b[1;32m     81\u001b[0m     get_setting(\u001b[39m\"\u001b[39m\u001b[39mFFMPEG_BINARY\u001b[39m\u001b[39m\"\u001b[39m),\n\u001b[1;32m     82\u001b[0m     \u001b[39m'\u001b[39m\u001b[39m-y\u001b[39m\u001b[39m'\u001b[39m,\n\u001b[1;32m     83\u001b[0m     \u001b[39m'\u001b[39m\u001b[39m-loglevel\u001b[39m\u001b[39m'\u001b[39m, \u001b[39m'\u001b[39m\u001b[39merror\u001b[39m\u001b[39m'\u001b[39m \u001b[39mif\u001b[39;00m logfile \u001b[39m==\u001b[39m sp\u001b[39m.\u001b[39mPIPE \u001b[39melse\u001b[39;00m \u001b[39m'\u001b[39m\u001b[39minfo\u001b[39m\u001b[39m'\u001b[39m,\n\u001b[1;32m     84\u001b[0m     \u001b[39m'\u001b[39m\u001b[39m-f\u001b[39m\u001b[39m'\u001b[39m, \u001b[39m'\u001b[39m\u001b[39mrawvideo\u001b[39m\u001b[39m'\u001b[39m,\n\u001b[1;32m     85\u001b[0m     \u001b[39m'\u001b[39m\u001b[39m-vcodec\u001b[39m\u001b[39m'\u001b[39m, \u001b[39m'\u001b[39m\u001b[39mrawvideo\u001b[39m\u001b[39m'\u001b[39m,\n\u001b[1;32m     86\u001b[0m     \u001b[39m'\u001b[39m\u001b[39m-s\u001b[39m\u001b[39m'\u001b[39m, \u001b[39m'\u001b[39m\u001b[39m%d\u001b[39;00m\u001b[39mx\u001b[39m\u001b[39m%d\u001b[39;00m\u001b[39m'\u001b[39m \u001b[39m%\u001b[39m (size[\u001b[39m0\u001b[39m], size[\u001b[39m1\u001b[39m]),\n\u001b[1;32m     87\u001b[0m     \u001b[39m'\u001b[39m\u001b[39m-pix_fmt\u001b[39m\u001b[39m'\u001b[39m, \u001b[39m'\u001b[39m\u001b[39mrgba\u001b[39m\u001b[39m'\u001b[39m \u001b[39mif\u001b[39;00m withmask \u001b[39melse\u001b[39;00m \u001b[39m'\u001b[39m\u001b[39mrgb24\u001b[39m\u001b[39m'\u001b[39m,\n\u001b[0;32m---> 88\u001b[0m     \u001b[39m'\u001b[39m\u001b[39m-r\u001b[39m\u001b[39m'\u001b[39m, \u001b[39m'\u001b[39;49m\u001b[39m%.02f\u001b[39;49;00m\u001b[39m'\u001b[39;49m \u001b[39m%\u001b[39;49m fps,\n\u001b[1;32m     89\u001b[0m     \u001b[39m'\u001b[39m\u001b[39m-an\u001b[39m\u001b[39m'\u001b[39m, \u001b[39m'\u001b[39m\u001b[39m-i\u001b[39m\u001b[39m'\u001b[39m, \u001b[39m'\u001b[39m\u001b[39m-\u001b[39m\u001b[39m'\u001b[39m\n\u001b[1;32m     90\u001b[0m ]\n\u001b[1;32m     91\u001b[0m \u001b[39mif\u001b[39;00m audiofile \u001b[39mis\u001b[39;00m \u001b[39mnot\u001b[39;00m \u001b[39mNone\u001b[39;00m:\n\u001b[1;32m     92\u001b[0m     cmd\u001b[39m.\u001b[39mextend([\n\u001b[1;32m     93\u001b[0m         \u001b[39m'\u001b[39m\u001b[39m-i\u001b[39m\u001b[39m'\u001b[39m, audiofile,\n\u001b[1;32m     94\u001b[0m         \u001b[39m'\u001b[39m\u001b[39m-acodec\u001b[39m\u001b[39m'\u001b[39m, \u001b[39m'\u001b[39m\u001b[39mcopy\u001b[39m\u001b[39m'\u001b[39m\n\u001b[1;32m     95\u001b[0m     ])\n",
      "\u001b[0;31mTypeError\u001b[0m: must be real number, not NoneType"
     ]
    }
   ],
   "source": [
    "from moviepy.editor import *\n",
    "\n",
    "def speeden_video(video_file_path: str, speeds: list[float]) -> str:\n",
    "    out_file = os.path.join(os.path.dirname(video_file_path), \"pyrocury-output.mp4\")\n",
    "\n",
    "    video = VideoFileClip(video_file_path)\n",
    "    video.write_videofile(\"hello.mp4\")\n",
    "    output = None\n",
    "\n",
    "    l = 0.0\n",
    "    for x in range(len(speeds)):\n",
    "        r = None\n",
    "        if x != len(speeds)-1:\n",
    "            r = l+90.0\n",
    "\n",
    "        sub_video: VideoClip = video.subclip(l, r)\n",
    "        sub_video = sub_video.set_fps(video.fps*speeds[x])\n",
    "        sub_video = sub_video.fx(vfx.speedx, speeds[x])\n",
    "\n",
    "        if output == None:\n",
    "            output = sub_video\n",
    "        else:\n",
    "            output = concatenate_videoclips([output, sub_video])\n",
    "\n",
    "    output.write_videofile(out_file)\n",
    "    return out_file\n",
    "\n",
    "speeden_video(\"/tmp/pyrocury/1f4922554fc84bc68adfc0dd5f34525d/Introducing YouTube Shorts.mp4\", [0.5])\n"
   ]
  }
 ],
 "metadata": {
  "kernelspec": {
   "display_name": "Python 3.10.4 64-bit",
   "language": "python",
   "name": "python3"
  },
  "language_info": {
   "codemirror_mode": {
    "name": "ipython",
    "version": 3
   },
   "file_extension": ".py",
   "mimetype": "text/x-python",
   "name": "python",
   "nbconvert_exporter": "python",
   "pygments_lexer": "ipython3",
   "version": "3.10.4"
  },
  "orig_nbformat": 4,
  "vscode": {
   "interpreter": {
    "hash": "4f946df053fbf2b937619d3c5458e7af74262f9a954d8797ba0b27400bcafe06"
   }
  }
 },
 "nbformat": 4,
 "nbformat_minor": 2
}
